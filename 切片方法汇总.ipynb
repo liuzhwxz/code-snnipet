{
 "cells": [
  {
   "cell_type": "markdown",
   "metadata": {},
   "source": [
    "## tensor切片方法\n",
    "### 1. x[:, 0]\n",
    "- 选取张量 x 的第 0 列。结果是降维的，会移除第 0 维所在的维度。\n",
    "- 原始张量的形状是 (3, 4)。\n",
    "- 结果张量的形状是 (3)，第 0 维被降维了。\n",
    "### 2. x[..., 0:1]\n",
    "- 使用切片操作 [0:1]，获取第 0 列。\n",
    "- 结果不会降维，而是保留原来的维度，只是第 1 维的大小变成了 1。\n",
    "\n",
    "### 3. 基本切片（与 NumPy 类似）\n",
    "- 通过 : 和索引对张量切片。\n",
    "- 支持 : 表示范围（如 0:3 表示索引 0 到 2）。\n",
    "- 支持负索引（如 -1 表示倒数第一）。\n",
    "```python\n",
    "x = torch.arange(12).reshape(3, 4)  # 创建一个 3x4 的张量\n",
    "print(x)\n",
    "# tensor([[ 0,  1,  2,  3],\n",
    "#         [ 4,  5,  6,  7],\n",
    "#         [ 8,  9, 10, 11]])\n",
    "# 切片操作\n",
    "print(x[1, 2])  # 获取第1行第2列 (值为6)\n",
    "print(x[:2, :3])  # 获取前两行和前三列\n",
    "\n",
    "```\n",
    "### 4. ...（省略号）切片\n",
    "- 灵活适配高维张量的切片。\n",
    "- ... 可以填补所有剩余的维度。\n",
    "```python\n",
    "x = torch.arange(24).reshape(2, 3, 4)\n",
    "\n",
    "print(x[..., 1])  # 等价于 x[:, :, 1]\n",
    "# tensor([[ 1,  5,  9],\n",
    "#         [13, 17, 21]])\n",
    "print(x[1, ...])  # 等价于 x[1, :, :]\n",
    "# tensor([[12, 13, 14, 15],\n",
    "#         [16, 17, 18, 19],\n",
    "#         [20, 21, 22, 23]])\n",
    "```\n",
    "### 5. unsqueeze 和 squeeze 切片\n",
    "- unsqueeze(dim) 用于增加维度，squeeze(dim) 用于移除维度。\n",
    "- 对切片和 reshape 操作非常有用。\n",
    "```python\n",
    "x = torch.arange(6)\n",
    "print(x.unsqueeze(0))  # 在第0维增加一个维度，结果为 1x6\n",
    "print(x.unsqueeze(1))  # 在第1维增加一个维度，结果为 6x1\n",
    "\n",
    "y = x.unsqueeze(0)\n",
    "print(y.squeeze(0))  # 去掉第0维，恢复原来的形状\n",
    "```"
   ]
  },
  {
   "cell_type": "markdown",
   "metadata": {},
   "source": []
  }
 ],
 "metadata": {
  "language_info": {
   "name": "python"
  }
 },
 "nbformat": 4,
 "nbformat_minor": 2
}
